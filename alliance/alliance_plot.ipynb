{
 "cells": [
  {
   "cell_type": "code",
   "execution_count": 1,
   "metadata": {},
   "outputs": [],
   "source": [
    "import pandas as pd\n",
    "import pickle\n",
    "import re \n",
    "from dateutil import parser\n",
    "from datetime import datetime\n",
    "from collections import namedtuple\n",
    "import matplotlib.pyplot as plt\n",
    "import numpy as np"
   ]
  },
  {
   "cell_type": "code",
   "execution_count": 2,
   "metadata": {},
   "outputs": [],
   "source": [
    "with open(\"coalition\", 'rb') as f:\n",
    "    coalition  = pickle.load(f)\n",
    "\n",
    "\n",
    "# # party  Alliance during UPA in center\n",
    "# nda_2009 = coalition['nda_2009']\n",
    "# upa_2009 = coalition['upa_2009']\n",
    "\n",
    "# # party  Alliance during NDA in center\n",
    "# nda_2014 = coalition['nda_2014']  \n",
    "# upa_2014 = coalition['upa_2014'] \n",
    "\n",
    "\n",
    "# nda_2019 = coalition['nda_2019']\n",
    "# upa_2019 = coalition['upa_2019']"
   ]
  },
  {
   "cell_type": "code",
   "execution_count": 3,
   "metadata": {},
   "outputs": [],
   "source": [
    "df = pd.read_excel('Election Date.xlsx')\n",
    "map = {'Jan': '01', 'Feb': '02', 'Mar': '03', 'Apr': '04', 'May': '05', 'Jun': '06', 'Jul': '07', 'Aug': '08', 'Sep': '09', 'Oct': '10', 'Nov': '11', 'Dec': '12'}"
   ]
  },
  {
   "cell_type": "code",
   "execution_count": 4,
   "metadata": {},
   "outputs": [],
   "source": [
    "# df"
   ]
  },
  {
   "cell_type": "code",
   "execution_count": 5,
   "metadata": {},
   "outputs": [],
   "source": [
    "dateRange = ['2009-2014', '2014-2019', '2019-2021']\n",
    "state_party_info = {}\n",
    "now = datetime.now()\n",
    "centerElections = ['2009-05-22', '2014-05-16', '2019-05-23', now.strftime('%Y-%m-%d')]\n",
    "centerParties = ['INC', 'BJP', 'BJP']\n",
    "totalElections = len(centerParties)\n",
    "for r in dateRange:\n",
    "    if r not in state_party_info:\n",
    "        state_party_info[r] = {}\n",
    "    for i, date in enumerate(df[r]):\n",
    "        state = df['State'][i]\n",
    "        # if(state != 'arunachal pradesh'): continue\n",
    "        if state not in state_party_info[r]:\n",
    "            state_party_info[r][state] = {}\n",
    "        if(pd.isna(date)): continue\n",
    "        # print(\"part_date : \",date)\n",
    "        x = re.split('\\[(.*?)\\]', date)\n",
    "        # print(x)\n",
    "        i = 0\n",
    "        p, d = [], []\n",
    "        while(i+1 < len(x)):\n",
    "            party = x[i].replace(', ', '').strip()\n",
    "            # print(\"party: \",party)\n",
    "            if party not in state_party_info[r][state]:\n",
    "                state_party_info[r][state][party] = []\n",
    "            for da in x[i+1].strip().split(','):\n",
    "                if da == '': \n",
    "                    state_party_info[r][state][party].append(now.strftime('%Y-%m-%d'))\n",
    "                    continue\n",
    "                try:\n",
    "                    date = (datetime.strptime(da.strip(), \"%d-%b-%y\").strftime('%Y-%m-%d'))\n",
    "                    # state_party_info[r][state][party].append(date)\n",
    "                except:\n",
    "                    try:\n",
    "                        date = (datetime.strptime(da.strip(), \"%d-%b-%Y\").strftime('%Y-%m-%d'))\n",
    "                        # state_party_info[r][state][party].append(date)\n",
    "                    except:\n",
    "                        try:\n",
    "                            # there was an error here related to CPI(M) because of split over () above line 4\n",
    "                            date = (datetime.strptime(da.strip(), \"%d/%m/%Y\").strftime('%Y-%m-%d'))\n",
    "                        except:\n",
    "                            print(da.strip())\n",
    "                state_party_info[r][state][party].append(date)\n",
    "            i+=2\n",
    "            while(i < len(x) and x[i].strip() == ''): i+=1"
   ]
  },
  {
   "cell_type": "code",
   "execution_count": 11,
   "metadata": {},
   "outputs": [],
   "source": [
    "def months_overlap(s1,e1, s2,e2):\n",
    "\n",
    "    Range = namedtuple('Range', ['start', 'end'])\n",
    "\n",
    "    r1 = Range(start=datetime.strptime(s1,'%Y-%m-%d'), end=datetime.strptime(e1,'%Y-%m-%d'))\n",
    "    r2 = Range(start=datetime.strptime(s2,'%Y-%m-%d'), end=datetime.strptime(e2,'%Y-%m-%d'))\n",
    "    latest_start = max(r1.start, r2.start)\n",
    "    earliest_end = min(r1.end, r2.end)\n",
    "    print(str(latest_start).split(\" \"))\n",
    "    print(str(earliest_end).split(\" \"))\n",
    "    delta = (earliest_end - latest_start).days + 1\n",
    "    overlap = max(0, delta)\n",
    "    return overlap // 30"
   ]
  },
  {
   "cell_type": "code",
   "execution_count": 12,
   "metadata": {},
   "outputs": [
    {
     "name": "stdout",
     "output_type": "stream",
     "text": [
      "['2011-05-15', '00:00:00']\n",
      "['2014-05-15', '00:00:00']\n"
     ]
    },
    {
     "data": {
      "text/plain": [
       "36"
      ]
     },
     "execution_count": 12,
     "metadata": {},
     "output_type": "execute_result"
    }
   ],
   "source": [
    "months_overlap('2009-05-15', '2014-05-15', '2011-05-15', '2017-05-15')"
   ]
  },
  {
   "cell_type": "code",
   "execution_count": 27,
   "metadata": {},
   "outputs": [],
   "source": [
    "# UPA at center \n",
    "# center = \"UPA\"\n",
    "# startDate = \"2009-05-22\"\n",
    "# endDate = \"2014-05-16\"\n",
    "# data = state_party_info[\"2009-2014\"]\n",
    "# nda_alliance = nda_2009\n",
    "# upa_alliance = upa_2009\n",
    "\n",
    "# # NDA1\n",
    "# center = \"NDA1\"\n",
    "# startDate = \"2014-05-26\"\n",
    "# endDate = \"2019-05-30\"\n",
    "# data = state_party_info[\"2014-2019\"]\n",
    "# nda_alliance = nda_2014\n",
    "# upa_alliance = upa_2014\n",
    "\n",
    "\n",
    "# #NDA2\n",
    "# center = \"NDA2\"\n",
    "# startDate = \"2019-05-30\"\n",
    "# endDate = \"2021-06-11\"\n",
    "# data = state_party_info[\"2019-2021\"]\n",
    "# nda_alliance = nda_2019\n",
    "# upa_alliance = upa_2019\n",
    "\n",
    "\n",
    "# center = \"NDA\"\n",
    "\n",
    "# \n",
    "# state_party_info"
   ]
  },
  {
   "cell_type": "code",
   "execution_count": 30,
   "metadata": {},
   "outputs": [],
   "source": [
    "state_party_info\n",
    "new_state_party_date_info = {}\n",
    "\n",
    "for timeline in  state_party_info:\n",
    "    new_state_party_date_info[timeline] = {}\n",
    "    ls_election_year = timeline.split('-')[0]\n",
    "    nda_coalition  = coalition['nda_' + ls_election_year]\n",
    "    upa_coalition  = coalition['upa_' + ls_election_year]\n",
    "    \n",
    "    for states in state_party_info[timeline]:\n",
    "#         print(states)\n",
    "        new_state_party_date_info[timeline][states] = {}\n",
    "        for party in state_party_info[timeline][states]:\n",
    "#             print(party)\n",
    "            if party.lower() in nda_coalition and party.lower() != 'sp':\n",
    "                new_state_party_date_info[timeline][states][\"NDA\"] = state_party_info[timeline][states][party]\n",
    "            elif party.lower() in upa_coalition:\n",
    "                new_state_party_date_info[timeline][states][\"UPA\"] = state_party_info[timeline][states][party]\n",
    "            else:\n",
    "                new_state_party_date_info[timeline][states][\"TF\"] = state_party_info[timeline][states][party]\n",
    "        \n"
   ]
  },
  {
   "cell_type": "code",
   "execution_count": 29,
   "metadata": {},
   "outputs": [],
   "source": [
    "# new_state_party_date_info\n",
    "\n",
    "# with open('state_caolition_date', 'wb') as f:\n",
    "#     pickle.dump(new_state_party_date_info, f)"
   ]
  },
  {
   "cell_type": "code",
   "execution_count": null,
   "metadata": {},
   "outputs": [],
   "source": [
    "state_list, nda_list, upa_list, na_list = [],[],[],[]\n",
    "for state in data:\n",
    "    NDA, UPA, Non_Aligned =  0,0,0\n",
    "    electrol_info =data[state]\n",
    "    \n",
    "    if electrol_info != {}:\n",
    "#         print(electrol_info)\n",
    "        for party in electrol_info:\n",
    "            if party.lower() in upa_alliance:\n",
    "                UPA += months_overlap(startDate,endDate, electrol_info[party][0], electrol_info[party][1] )\n",
    "            elif party.lower() in nda_alliance and party.lower() != 'sp':\n",
    "                NDA += months_overlap(startDate,endDate, electrol_info[party][0], electrol_info[party][1] )\n",
    "\n",
    "            else:\n",
    "                Non_Aligned += months_overlap(startDate,endDate, electrol_info[party][0], electrol_info[party][1] )\n",
    "        state_list.append(state)\n",
    "        nda_list.append(NDA)\n",
    "        upa_list.append(UPA)\n",
    "        na_list.append(Non_Aligned)\n",
    "#         print(state, NDA, UPA, Non_Aligned )\n",
    "\n",
    "# print(state_list)\n",
    "# print(nda_list)\n",
    "# print(upa_list)\n",
    "# print(na_list)\n",
    "\n",
    "coalition_months_NDA1 = np.stack([\n",
    "                             np.array(nda_list),\\\n",
    "                             np.array(upa_list), \\\n",
    "                             np.array(na_list)\n",
    "                            ]).T\n",
    "\n",
    "\n",
    "# creating a list of index names\n",
    "index_values = np.array(state_list)\n",
    "   \n",
    "# creating a list of column names\n",
    "column_values = ['NDA', 'UPA', 'ThirdFront']\n",
    "  \n",
    "# creating the dataframe\n",
    "coalition_months_NDA1 = pd.DataFrame(data = coalition_months_NDA1, \n",
    "                  index = index_values, \n",
    "                  columns = column_values)\n",
    "\n",
    "\n",
    "with open(\"coalition_months_NDA1\", 'wb') as f:\n",
    "    pickle.dump(coalition_months_NDA1, f)\n"
   ]
  },
  {
   "cell_type": "code",
   "execution_count": null,
   "metadata": {},
   "outputs": [],
   "source": [
    "if center == \"NDA\":\n",
    "    with open('./coalition_months_NDA', 'rb') as f:\n",
    "        coalition_months_NDA = pickle.load(f)\n",
    "    coal = coalition_months_NDA\n",
    "    state_list = coal.index.values.tolist()\n",
    "    nda_list = list(coal['NDA'])\n",
    "    upa_list = list(coal['UPA'])\n",
    "    na_list =list(coal['ThirdFront'])\n"
   ]
  },
  {
   "cell_type": "code",
   "execution_count": null,
   "metadata": {},
   "outputs": [],
   "source": [
    "\n",
    "\n",
    "fig, ax = plt.subplots( figsize =(12, 8))\n",
    "fig.suptitle(\"Center State Alliance: {} center govt\".format(center))\n",
    "\n",
    "width = 0.6\n",
    "\n",
    "br = np.arange(len(state_list))\n",
    "\n",
    "ax.bar(br, nda_list, width, label='NDA', color='#F97306')\n",
    "ax.bar(br, np.array(upa_list), width, bottom=np.array(nda_list),\n",
    "       label='UPA', color='b')\n",
    "\n",
    "ax.bar(br, na_list, width, bottom=np.sum([np.array(nda_list),np.array(upa_list)],axis=0),\n",
    "       label='ThirdFront', color='g')\n",
    "\n",
    "ax.set_xticks([r for r in range(len(state_list))]) \n",
    "ax.set_xticklabels(state_list, fontsize=12,  rotation = 90)\n",
    "\n",
    "ax.set_ylabel('Months')\n",
    "ax.set_title('State level alliance with {} as center govt'.format(center))\n",
    "ax.legend()\n",
    "plt.tight_layout()\n",
    "plt.show()\n",
    "fig.savefig(\"{}\".format(center))"
   ]
  },
  {
   "cell_type": "code",
   "execution_count": null,
   "metadata": {},
   "outputs": [],
   "source": []
  },
  {
   "cell_type": "code",
   "execution_count": null,
   "metadata": {},
   "outputs": [],
   "source": []
  }
 ],
 "metadata": {
  "kernelspec": {
   "display_name": "Python 3",
   "language": "python",
   "name": "python3"
  },
  "language_info": {
   "codemirror_mode": {
    "name": "ipython",
    "version": 3
   },
   "file_extension": ".py",
   "mimetype": "text/x-python",
   "name": "python",
   "nbconvert_exporter": "python",
   "pygments_lexer": "ipython3",
   "version": "3.8.5"
  }
 },
 "nbformat": 4,
 "nbformat_minor": 4
}
