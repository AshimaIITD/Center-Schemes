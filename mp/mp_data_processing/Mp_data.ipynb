{
 "cells": [
  {
   "cell_type": "code",
   "execution_count": 1,
   "metadata": {},
   "outputs": [],
   "source": [
    "import json\n",
    "import pickle"
   ]
  },
  {
   "cell_type": "code",
   "execution_count": 2,
   "metadata": {},
   "outputs": [],
   "source": [
    "# Opening JSON file\n",
    "file = open('electedFrom.json',)\n",
    "  \n",
    "# returns JSON object as \n",
    "# a dictionary\n",
    "data = json.load(file)\n",
    "\n",
    "\n",
    "# constituency to state\n",
    "with open(\"lsConstTOstate_Map\", 'rb') as f:\n",
    "    lsConst_state = pickle.load(f)\n",
    "    \n",
    "with open('./cand_party', 'rb') as f:\n",
    "    cand_party = pickle.load(f)"
   ]
  },
  {
   "cell_type": "code",
   "execution_count": 3,
   "metadata": {},
   "outputs": [],
   "source": [
    "# lsConst_state"
   ]
  },
  {
   "cell_type": "code",
   "execution_count": 4,
   "metadata": {},
   "outputs": [],
   "source": [
    "# data"
   ]
  },
  {
   "cell_type": "code",
   "execution_count": 5,
   "metadata": {},
   "outputs": [],
   "source": [
    "es_data = []\n",
    "count = 0\n",
    "for info in data['data']:\n",
    "    temp = dict()\n",
    "#     print((info['row']))\n",
    "    uuid = info['row'][0]['uuid']\n",
    "    temp['Name'] = info['row'][0]['name']\n",
    "    temp['Alias'] = info['row'][0]['aliases']\n",
    "    if 'candidatepos' not in info['row'][1]:\n",
    "        continue\n",
    "    temp['Position']  = int(info['row'][1]['candidatepos'])\n",
    "    temp['Year']  = int(info['row'][1]['subkind'][-4:])\n",
    "    temp['Constituency']  = info['row'][2]['name']\n",
    "    temp['State']  = lsConst_state[temp['Constituency']]\n",
    "    temp['Party'] = cand_party[str(uuid) + '_' + str(temp['Year'])]\n",
    "    \n",
    "    es_data.append(temp)\n"
   ]
  },
  {
   "cell_type": "code",
   "execution_count": 6,
   "metadata": {},
   "outputs": [],
   "source": [
    "# es_data\n",
    "with open(\"./MP_data\", 'wb') as f:\n",
    "    pickle.dump(es_data, f)"
   ]
  },
  {
   "cell_type": "code",
   "execution_count": 7,
   "metadata": {},
   "outputs": [],
   "source": [
    "\n",
    "# sample data to be inserted in ES:\n",
    "\n",
    "# e1 = {\n",
    "#     \"Name\": \"chandrika prasad shivcharan\",\n",
    "#     \"Alias\": [\"chandrika prasad shivcharan\", \" c.p  shivcharan\"],\n",
    "#     \"State\": \"madhya pradesh \",\n",
    "#     \"Electoral_Info\":\n",
    "#     [\n",
    "#         {\n",
    "#             \"Constituency\": \"abhanpur\",\n",
    "#             \"Party\": \"indian national congress\",\n",
    "#             \"Position\": 2.0,\n",
    "#             \"Year\": 1977\n",
    "#         },\n",
    "\n",
    "#         {\n",
    "#             \"Constituency\": \"abhanpur\",\n",
    "#             \"Party\": \"indian national \",\n",
    "#             \"Position\": 2.0,\n",
    "#             \"Year\": 1987\n",
    "#         }\n",
    "\n",
    "#     ]\n",
    "\n",
    "# }"
   ]
  }
 ],
 "metadata": {
  "kernelspec": {
   "display_name": "Python 3",
   "language": "python",
   "name": "python3"
  },
  "language_info": {
   "codemirror_mode": {
    "name": "ipython",
    "version": 3
   },
   "file_extension": ".py",
   "mimetype": "text/x-python",
   "name": "python",
   "nbconvert_exporter": "python",
   "pygments_lexer": "ipython3",
   "version": "3.8.5"
  }
 },
 "nbformat": 4,
 "nbformat_minor": 4
}
