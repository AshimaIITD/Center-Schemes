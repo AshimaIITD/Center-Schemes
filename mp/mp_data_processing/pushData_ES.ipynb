{
 "cells": [
  {
   "cell_type": "code",
   "execution_count": 1,
   "metadata": {},
   "outputs": [
    {
     "name": "stdout",
     "output_type": "stream",
     "text": [
      "All Modules successfully loaded!\n"
     ]
    }
   ],
   "source": [
    "try:\n",
    "    from elasticsearch import Elasticsearch,helpers \n",
    "    from pprint import pprint\n",
    "    import uuid \n",
    "    import jellyfish as jf\n",
    "    import phonetics \n",
    "    import time\n",
    "    import pickle\n",
    "    import json\n",
    "    print(\"All Modules successfully loaded!\")\n",
    "except Exception as e:\n",
    "    print(\"Loading modules failed : \", e)\n"
   ]
  },
  {
   "cell_type": "code",
   "execution_count": 2,
   "metadata": {},
   "outputs": [],
   "source": [
    "# !pip install "
   ]
  },
  {
   "cell_type": "code",
   "execution_count": 3,
   "metadata": {},
   "outputs": [],
   "source": [
    "with open(\"MP_data\", 'rb') as f:\n",
    "    data = pickle.load(f)"
   ]
  },
  {
   "cell_type": "code",
   "execution_count": 4,
   "metadata": {},
   "outputs": [],
   "source": [
    "es = Elasticsearch('10.237.26.117', port=9200)"
   ]
  },
  {
   "cell_type": "code",
   "execution_count": 5,
   "metadata": {},
   "outputs": [
    {
     "name": "stdout",
     "output_type": "stream",
     "text": [
      "connected to ES\n"
     ]
    }
   ],
   "source": [
    "# check if connected to elasticSearch\n",
    "if es.ping():\n",
    "    print(\"connected to ES\")\n",
    "else:\n",
    "    print(\"Connection to ES failed\")"
   ]
  },
  {
   "cell_type": "code",
   "execution_count": 6,
   "metadata": {},
   "outputs": [],
   "source": [
    "\n",
    "INDEX = \"mp_data\"\n",
    "MAPPING  = \"electionData\""
   ]
  },
  {
   "cell_type": "code",
   "execution_count": 7,
   "metadata": {},
   "outputs": [
    {
     "name": "stdout",
     "output_type": "stream",
     "text": [
      "Index already exists\n",
      "index logic done\n"
     ]
    }
   ],
   "source": [
    "# get all index in ES\n",
    "\n",
    "es_indices = es.indices.get_alias(\"*\")\n",
    "# for idx in es_indices:\n",
    "#     print(idx)\n",
    "    \n",
    "if INDEX not in es_indices:\n",
    "    print(\"Index does not exists ------- Creating now\")\n",
    "    es.indices.create(index=INDEX, request_timeout=30)\n",
    "\n",
    "else:\n",
    "    print('Index already exists')\n",
    "\n",
    "print(\"index logic done\")"
   ]
  },
  {
   "cell_type": "code",
   "execution_count": 8,
   "metadata": {},
   "outputs": [],
   "source": [
    "def findES_Doc(entityName,state, constituency):\n",
    "#     \"from\" : 0, \"size\" : 10,\n",
    "    return  {\n",
    "        \"size\": 5,\n",
    "        \"query\":\n",
    "        {\n",
    "            \"bool\":\n",
    "            {\n",
    "                \"should\":\n",
    "                [\n",
    "                    {\n",
    "                        \"multi_match\" :\n",
    "                         {\n",
    "                            \"query\":    entityName,\n",
    "                            \"fields\": [ \"Name\", \"Alias\" ]\n",
    "                         }\n",
    "                    }\n",
    "\n",
    "                ],\n",
    "                \"must\":\n",
    "                [\n",
    "                    { \n",
    "                        \"terms\":  { \"State.keyword\": state }\n",
    "                    }\n",
    "                    \n",
    "                ]\n",
    "            }\n",
    "    \n",
    "                       \n",
    "                \n",
    "        }\n",
    "    }"
   ]
  },
  {
   "cell_type": "code",
   "execution_count": 9,
   "metadata": {},
   "outputs": [],
   "source": [
    "# def match(doc, candidate):\n",
    "#     if doc['Name'] != candidate['_source']['Name'] and doc['Name'] not in candidate['_source']['Alias']:\n",
    "#         return False\n",
    "#     if doc['State'][0] != candidate['_source']['State']\n",
    "#         return False\n",
    "    \n",
    "#     for history in candidate['Electoral_Info']:\n",
    "#         if doc['Constituency'] == history['Constituency']:\n",
    "#             return True\n",
    "        \n",
    "#     return False\n",
    "    \n",
    "    "
   ]
  },
  {
   "cell_type": "code",
   "execution_count": 10,
   "metadata": {},
   "outputs": [],
   "source": [
    "def createDoc(doc):\n",
    "    mp = dict()\n",
    "    mp['Name'] = doc['Name']\n",
    "    mp['Alias'] =  doc['Alias']\n",
    "    mp['State'] = doc['State'][0]\n",
    "    mp['Electoral_Info'] = [{'Constituency':doc['Constituency'] , 'Party': doc['Party'] ,\n",
    "                             'Position': doc['Position'], 'Year':doc['Year']}]\n",
    "    \n",
    "    return mp\n"
   ]
  },
  {
   "cell_type": "code",
   "execution_count": 12,
   "metadata": {},
   "outputs": [
    {
     "name": "stdout",
     "output_type": "stream",
     "text": [
      "19690\n"
     ]
    }
   ],
   "source": [
    "ls2004_09_14 = []\n",
    "for doc in data:\n",
    "    mp = createDoc(doc)\n",
    "    ls2004_09_14.append(mp)\n",
    "    \n",
    "print(len(ls2004_09_14))"
   ]
  },
  {
   "cell_type": "code",
   "execution_count": 13,
   "metadata": {},
   "outputs": [
    {
     "name": "stderr",
     "output_type": "stream",
     "text": [
      "/home/vivek/anaconda3/lib/python3.8/site-packages/elasticsearch/connection/base.py:200: ElasticsearchWarning: [types removal] Specifying types in bulk requests is deprecated.\n",
      "  warnings.warn(message, category=ElasticsearchWarning)\n"
     ]
    }
   ],
   "source": [
    "resp = helpers.bulk(\n",
    "es,\n",
    "ls2004_09_14,\n",
    "index = INDEX,\n",
    "doc_type = \"_doc\"\n",
    ")"
   ]
  },
  {
   "cell_type": "code",
   "execution_count": 14,
   "metadata": {},
   "outputs": [
    {
     "name": "stdout",
     "output_type": "stream",
     "text": [
      "helpers.bulk() RESPONSE: (19690, [])\n",
      "helpers.bulk() RESPONSE: [\n",
      "    19690,\n",
      "    []\n",
      "]\n"
     ]
    }
   ],
   "source": [
    "print (\"helpers.bulk() RESPONSE:\", resp)\n",
    "print (\"helpers.bulk() RESPONSE:\", json.dumps(resp, indent=4))"
   ]
  },
  {
   "cell_type": "code",
   "execution_count": 15,
   "metadata": {},
   "outputs": [
    {
     "data": {
      "text/plain": [
       "8026"
      ]
     },
     "execution_count": 15,
     "metadata": {},
     "output_type": "execute_result"
    }
   ],
   "source": [
    "# inserting 2019 data as not present in Graph DB\n",
    "\n",
    "with open('ls2019data', 'rb') as f:\n",
    "    ls2019 = pickle.load(f)\n",
    "    \n",
    "len(ls2019)\n"
   ]
  },
  {
   "cell_type": "code",
   "execution_count": 16,
   "metadata": {},
   "outputs": [
    {
     "name": "stdout",
     "output_type": "stream",
     "text": [
      "helpers.bulk() RESPONSE: (8026, [])\n",
      "helpers.bulk() RESPONSE: [\n",
      "    8026,\n",
      "    []\n",
      "]\n"
     ]
    }
   ],
   "source": [
    "resp2019 = helpers.bulk(\n",
    "es,\n",
    "ls2019,\n",
    "index = INDEX,\n",
    "doc_type = \"_doc\"\n",
    ")\n",
    "\n",
    "    \n",
    "print (\"helpers.bulk() RESPONSE:\", resp2019)\n",
    "print (\"helpers.bulk() RESPONSE:\", json.dumps(resp2019, indent=4))"
   ]
  },
  {
   "cell_type": "code",
   "execution_count": null,
   "metadata": {},
   "outputs": [],
   "source": []
  },
  {
   "cell_type": "code",
   "execution_count": null,
   "metadata": {},
   "outputs": [],
   "source": [
    "res = es.search(index=INDEX, doc_type=\"_doc\", body = {\n",
    "'size' : 10000,\n",
    "'query': {\n",
    "    'match_all' : {}\n",
    "}\n",
    "})\n",
    "len(res['hits']['hits'])"
   ]
  },
  {
   "cell_type": "code",
   "execution_count": null,
   "metadata": {},
   "outputs": [],
   "source": [
    "# result = es.search(index=INDEX, body={\"query\":{\"match_all\":{}}})\n",
    "# len(result['hits']['hits'])"
   ]
  },
  {
   "cell_type": "code",
   "execution_count": null,
   "metadata": {},
   "outputs": [],
   "source": [
    "# print(result)"
   ]
  },
  {
   "cell_type": "code",
   "execution_count": null,
   "metadata": {},
   "outputs": [],
   "source": [
    "# delete the index\n",
    "# print(es.indices.delete(index=INDEX, ignore=[400,404]))"
   ]
  },
  {
   "cell_type": "code",
   "execution_count": null,
   "metadata": {},
   "outputs": [],
   "source": []
  }
 ],
 "metadata": {
  "kernelspec": {
   "display_name": "Python 3",
   "language": "python",
   "name": "python3"
  },
  "language_info": {
   "codemirror_mode": {
    "name": "ipython",
    "version": 3
   },
   "file_extension": ".py",
   "mimetype": "text/x-python",
   "name": "python",
   "nbconvert_exporter": "python",
   "pygments_lexer": "ipython3",
   "version": "3.8.5"
  }
 },
 "nbformat": 4,
 "nbformat_minor": 4
}
