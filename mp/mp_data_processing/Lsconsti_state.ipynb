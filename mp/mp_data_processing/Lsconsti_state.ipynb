{
 "cells": [
  {
   "cell_type": "code",
   "execution_count": 1,
   "metadata": {},
   "outputs": [],
   "source": [
    "import json\n",
    "import pickle"
   ]
  },
  {
   "cell_type": "code",
   "execution_count": 2,
   "metadata": {},
   "outputs": [],
   "source": [
    "# Opening JSON file\n",
    "f = open('lsconst_state.json',)\n",
    "  \n",
    "# returns JSON object as \n",
    "# a dictionary\n",
    "data = json.load(f)"
   ]
  },
  {
   "cell_type": "code",
   "execution_count": 3,
   "metadata": {},
   "outputs": [
    {
     "name": "stdout",
     "output_type": "stream",
     "text": [
      "AURANGABAD Maharashtra\n",
      "['Bihar', 'Maharashtra']\n",
      "HAMIRPUR Uttar Pradesh\n",
      "['Himachal Pradesh', 'Uttar Pradesh']\n",
      "MAHARAJGANJ Uttar Pradesh\n",
      "['Bihar', 'Uttar Pradesh']\n"
     ]
    }
   ],
   "source": [
    "lsConstTOstate = dict()\n",
    "for info in data['data']:\n",
    "    lsConst = info['row'][0]['name']\n",
    "    state = info['row'][1]['name']\n",
    "#     print(state)\n",
    "    \n",
    "    if lsConst not in lsConstTOstate:\n",
    "        lsConstTOstate[lsConst] = [state]\n",
    "    else:\n",
    "        lsConstTOstate[lsConst].append(state)\n",
    "        print(lsConst,state)\n",
    "        print(lsConstTOstate[lsConst])\n"
   ]
  },
  {
   "cell_type": "code",
   "execution_count": 4,
   "metadata": {},
   "outputs": [
    {
     "data": {
      "text/plain": [
       "540"
      ]
     },
     "execution_count": 4,
     "metadata": {},
     "output_type": "execute_result"
    }
   ],
   "source": [
    "len(lsConstTOstate)"
   ]
  },
  {
   "cell_type": "code",
   "execution_count": 5,
   "metadata": {},
   "outputs": [],
   "source": [
    "with open('./lsConstTOstate_Map','wb') as f:\n",
    "    pickle.dump(lsConstTOstate, f)"
   ]
  },
  {
   "cell_type": "code",
   "execution_count": 7,
   "metadata": {},
   "outputs": [],
   "source": [
    "with open('./lsConstTOstate_Map','rb') as f:\n",
    "    dd = pickle.load(f)"
   ]
  },
  {
   "cell_type": "code",
   "execution_count": null,
   "metadata": {},
   "outputs": [],
   "source": []
  },
  {
   "cell_type": "code",
   "execution_count": null,
   "metadata": {},
   "outputs": [],
   "source": []
  }
 ],
 "metadata": {
  "kernelspec": {
   "display_name": "Python 3",
   "language": "python",
   "name": "python3"
  },
  "language_info": {
   "codemirror_mode": {
    "name": "ipython",
    "version": 3
   },
   "file_extension": ".py",
   "mimetype": "text/x-python",
   "name": "python",
   "nbconvert_exporter": "python",
   "pygments_lexer": "ipython3",
   "version": "3.8.5"
  }
 },
 "nbformat": 4,
 "nbformat_minor": 4
}
